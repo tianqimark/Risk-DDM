{
 "cells": [
  {
   "cell_type": "code",
   "execution_count": 163,
   "id": "bbffb76e",
   "metadata": {},
   "outputs": [],
   "source": [
    "import numpy as np\n",
    "import pandas as pd\n",
    "import matplotlib.pyplot as plt\n",
    "\n",
    "from scipy.stats import ttest_ind, ttest_rel, ttest_1samp, mannwhitneyu, wilcoxon, pearsonr, spearmanr, kstest, chi2\n",
    "import pingouin as pg\n"
   ]
  },
  {
   "cell_type": "markdown",
   "id": "9f5e0f46",
   "metadata": {},
   "source": [
    "### To note, the DDM data here are the preliminary results"
   ]
  },
  {
   "cell_type": "code",
   "execution_count": 164,
   "id": "216bcd1b",
   "metadata": {},
   "outputs": [],
   "source": [
    "# read DDM data\n",
    "ddm_risk = pd.read_csv('/Users/hutianqi/Desktop/Project Smith Fitting/01 DDM Fitting/Z3_Fitting_Refs/SK_risk_ddm_ref_2.csv')\n",
    "addm_risk = pd.read_csv('/Users/hutianqi/Desktop/Project Smith Fitting/01 DDM Fitting/Z3_Fitting_Refs/SK_risk_addm_ref_2.csv')\n",
    "ddm_social = pd.read_csv('/Users/hutianqi/Desktop/Project Smith Fitting/01 DDM Fitting/Z3_Fitting_Refs/SK_social_ddm_ref_2.csv')\n",
    "addm_social = pd.read_csv('/Users/hutianqi/Desktop/Project Smith Fitting/01 DDM Fitting/Z3_Fitting_Refs/SK_social_addm_ref_2.csv')\n"
   ]
  },
  {
   "cell_type": "code",
   "execution_count": 165,
   "id": "73aa159a",
   "metadata": {
    "scrolled": true
   },
   "outputs": [
    {
     "data": {
      "text/plain": [
       "Index(['SubjectNumber', 'model', 'd', 'rho', 'B', 'x0', 'x0_abs', 'nondectime',\n",
       "       'loss_func_value', 'criterion', 'sample_size', 'on_bound_valid',\n",
       "       'on_bound_invalid'],\n",
       "      dtype='object')"
      ]
     },
     "execution_count": 165,
     "metadata": {},
     "output_type": "execute_result"
    }
   ],
   "source": [
    "ddm_risk.columns"
   ]
  },
  {
   "cell_type": "code",
   "execution_count": 166,
   "id": "eb130f1d",
   "metadata": {},
   "outputs": [
    {
     "data": {
      "text/plain": [
       "Index(['SubjectNumber', 'model', 'd', 'rho', 'theta', 'nondectime', 'B', 'x0',\n",
       "       'x0_abs', 'loss_func_value', 'criterion', 'sample_size',\n",
       "       'on_bound_valid', 'on_bound_invalid'],\n",
       "      dtype='object')"
      ]
     },
     "execution_count": 166,
     "metadata": {},
     "output_type": "execute_result"
    }
   ],
   "source": [
    "addm_risk.columns"
   ]
  },
  {
   "cell_type": "code",
   "execution_count": 167,
   "id": "915e96ad",
   "metadata": {},
   "outputs": [
    {
     "data": {
      "text/plain": [
       "Index(['SubjectNumber', 'model', 'd', 'alpha', 'beta', 'B', 'x0', 'x0_abs',\n",
       "       'nondectime', 'loss_func_value', 'criterion', 'sample_size',\n",
       "       'on_bound_valid', 'on_bound_invalid'],\n",
       "      dtype='object')"
      ]
     },
     "execution_count": 167,
     "metadata": {},
     "output_type": "execute_result"
    }
   ],
   "source": [
    "ddm_social.columns"
   ]
  },
  {
   "cell_type": "code",
   "execution_count": 168,
   "id": "23290e61",
   "metadata": {},
   "outputs": [
    {
     "data": {
      "text/plain": [
       "Index(['SubjectNumber', 'model', 'd', 'alpha', 'beta', 'theta', 'nondectime',\n",
       "       'B', 'x0', 'x0_abs', 'loss_func_value', 'criterion', 'sample_size',\n",
       "       'on_bound_valid', 'on_bound_invalid'],\n",
       "      dtype='object')"
      ]
     },
     "execution_count": 168,
     "metadata": {},
     "output_type": "execute_result"
    }
   ],
   "source": [
    "addm_social.columns"
   ]
  },
  {
   "cell_type": "code",
   "execution_count": null,
   "id": "128de30c",
   "metadata": {},
   "outputs": [],
   "source": []
  },
  {
   "cell_type": "code",
   "execution_count": 169,
   "id": "3159b493",
   "metadata": {},
   "outputs": [],
   "source": [
    "# setting parameters for plotting:\n",
    "label_size = 16\n",
    "tick_size = 12\n",
    "title_size = 18\n",
    "dpi=100"
   ]
  },
  {
   "cell_type": "code",
   "execution_count": null,
   "id": "9b457160",
   "metadata": {},
   "outputs": [],
   "source": []
  },
  {
   "cell_type": "markdown",
   "id": "64b36dcc",
   "metadata": {},
   "source": [
    "# Within-domain patterns"
   ]
  },
  {
   "cell_type": "markdown",
   "id": "fb4dafb1",
   "metadata": {},
   "source": [
    "## Normality test\n",
    "To note, because none of the variables of interests follow the normal distribution, nonparametric methods should be favoured in the following analysis."
   ]
  },
  {
   "cell_type": "code",
   "execution_count": 170,
   "id": "7112bcbd",
   "metadata": {},
   "outputs": [
    {
     "data": {
      "text/plain": [
       "KstestResult(statistic=0.5031796162978742, pvalue=5.822940276287927e-09)"
      ]
     },
     "execution_count": 170,
     "metadata": {},
     "output_type": "execute_result"
    }
   ],
   "source": [
    "kstest(ddm_risk['x0_abs'], 'norm')"
   ]
  },
  {
   "cell_type": "code",
   "execution_count": 171,
   "id": "d82859a4",
   "metadata": {},
   "outputs": [
    {
     "data": {
      "text/plain": [
       "KstestResult(statistic=0.5008532737639951, pvalue=7.0590680388486515e-09)"
      ]
     },
     "execution_count": 171,
     "metadata": {},
     "output_type": "execute_result"
    }
   ],
   "source": [
    "kstest(addm_risk['x0_abs'], 'norm')"
   ]
  },
  {
   "cell_type": "code",
   "execution_count": 172,
   "id": "ec8e3913",
   "metadata": {},
   "outputs": [
    {
     "data": {
      "text/plain": [
       "KstestResult(statistic=0.5001329892777552, pvalue=7.490845727315158e-09)"
      ]
     },
     "execution_count": 172,
     "metadata": {},
     "output_type": "execute_result"
    }
   ],
   "source": [
    "kstest(ddm_social['x0_abs'], 'norm')"
   ]
  },
  {
   "cell_type": "code",
   "execution_count": 173,
   "id": "4c160c4f",
   "metadata": {},
   "outputs": [
    {
     "data": {
      "text/plain": [
       "KstestResult(statistic=0.505367789754575, pvalue=4.853336126216068e-09)"
      ]
     },
     "execution_count": 173,
     "metadata": {},
     "output_type": "execute_result"
    }
   ],
   "source": [
    "kstest(addm_social['x0_abs'], 'norm')"
   ]
  },
  {
   "cell_type": "markdown",
   "id": "c4a1135e",
   "metadata": {},
   "source": [
    "## Correlational analysis"
   ]
  },
  {
   "cell_type": "code",
   "execution_count": 174,
   "id": "5f000c71",
   "metadata": {},
   "outputs": [
    {
     "name": "stdout",
     "output_type": "stream",
     "text": [
      "PearsonrResult (0.8976305335004088, 1.2009961964223896e-13)\n",
      "SpearmanrResult(correlation=0.8368082368082369, pvalue=2.043193108060161e-10)\n"
     ]
    }
   ],
   "source": [
    "# risk\n",
    "print('PearsonrResult', pearsonr(ddm_risk['x0_abs'], addm_risk['x0_abs']))\n",
    "print(spearmanr(ddm_risk['x0_abs'], addm_risk['x0_abs']))\n"
   ]
  },
  {
   "cell_type": "code",
   "execution_count": 175,
   "id": "8c603a77",
   "metadata": {},
   "outputs": [
    {
     "name": "stdout",
     "output_type": "stream",
     "text": [
      "PearsonrResult (0.8932883691330878, 2.3512313723562124e-13)\n",
      "SpearmanrResult(correlation=0.8653796653796654, pvalue=9.767085183376899e-12)\n"
     ]
    }
   ],
   "source": [
    "# social\n",
    "print('PearsonrResult', pearsonr(ddm_social['x0_abs'], addm_social['x0_abs']))\n",
    "print(spearmanr(ddm_social['x0_abs'], addm_social['x0_abs']))\n"
   ]
  },
  {
   "cell_type": "markdown",
   "id": "c8ab48ec",
   "metadata": {},
   "source": [
    "## Paired samples analysis"
   ]
  },
  {
   "cell_type": "code",
   "execution_count": 176,
   "id": "543c00fa",
   "metadata": {},
   "outputs": [
    {
     "name": "stdout",
     "output_type": "stream",
     "text": [
      "0.1915122305208129 0.13976118029224843\n",
      "0.1676453347466379 0.1275228218373154\n",
      "Ttest_relResult(statistic=2.3234041496692894, pvalue=0.02609120892657179)\n",
      "WilcoxonResult(statistic=194.0, pvalue=0.028979159318306184)\n"
     ]
    }
   ],
   "source": [
    "# risk\n",
    "print(ddm_risk['x0_abs'].mean(), ddm_risk['x0_abs'].std())\n",
    "print(addm_risk['x0_abs'].mean(), addm_risk['x0_abs'].std())\n",
    "print(ttest_rel(ddm_risk['x0_abs'], addm_risk['x0_abs']))\n",
    "print(wilcoxon(ddm_risk['x0_abs'], addm_risk['x0_abs']))"
   ]
  },
  {
   "cell_type": "code",
   "execution_count": 177,
   "id": "8dcd938c",
   "metadata": {},
   "outputs": [
    {
     "name": "stdout",
     "output_type": "stream",
     "text": [
      "0.2255607010913977 0.12883183782551663\n",
      "0.23729054289763823 0.1348735051547072\n",
      "Ttest_relResult(statistic=-1.1500605404973516, pvalue=0.2579166027626072)\n",
      "WilcoxonResult(statistic=269.0, pvalue=0.31466731744923226)\n"
     ]
    }
   ],
   "source": [
    "# social\n",
    "print(ddm_social['x0_abs'].mean(), ddm_social['x0_abs'].std())\n",
    "print(addm_social['x0_abs'].mean(), addm_social['x0_abs'].std())\n",
    "print(ttest_rel(ddm_social['x0_abs'], addm_social['x0_abs']))\n",
    "print(wilcoxon(ddm_social['x0_abs'], addm_social['x0_abs']))"
   ]
  },
  {
   "cell_type": "code",
   "execution_count": null,
   "id": "6bf15677",
   "metadata": {},
   "outputs": [],
   "source": []
  },
  {
   "cell_type": "code",
   "execution_count": null,
   "id": "86990156",
   "metadata": {},
   "outputs": [],
   "source": []
  },
  {
   "cell_type": "markdown",
   "id": "791ef081",
   "metadata": {},
   "source": [
    "# Cross-domain stability of the preference  for intuitive thinking"
   ]
  },
  {
   "cell_type": "markdown",
   "id": "4f09a453",
   "metadata": {},
   "source": [
    "## Correlation analysis on x0_abs (intuition strength)\n"
   ]
  },
  {
   "cell_type": "code",
   "execution_count": 178,
   "id": "d3526949",
   "metadata": {},
   "outputs": [
    {
     "name": "stdout",
     "output_type": "stream",
     "text": [
      "PearsonrResult (-0.2992839016988233, 0.07619129107385664)\n",
      "SpearmanrResult(correlation=-0.1915057915057915, pvalue=0.26319225460518353)\n"
     ]
    }
   ],
   "source": [
    "# DDM\n",
    "print('PearsonrResult', pearsonr(ddm_risk['x0_abs'], ddm_social['x0_abs']))\n",
    "print(spearmanr(ddm_risk['x0_abs'], ddm_social['x0_abs']))"
   ]
  },
  {
   "cell_type": "code",
   "execution_count": 179,
   "id": "a13dc13d",
   "metadata": {},
   "outputs": [
    {
     "name": "stdout",
     "output_type": "stream",
     "text": [
      "PearsonrResult (-0.21340779729787565, 0.211403995514855)\n",
      "SpearmanrResult(correlation=-0.15572715572715573, pvalue=0.3644396195705676)\n"
     ]
    }
   ],
   "source": [
    "# aDDM\n",
    "print('PearsonrResult', pearsonr(addm_risk['x0_abs'], addm_social['x0_abs']))\n",
    "print(spearmanr(addm_risk['x0_abs'], addm_social['x0_abs']))"
   ]
  },
  {
   "cell_type": "markdown",
   "id": "ec004f25",
   "metadata": {},
   "source": [
    "### plotting"
   ]
  },
  {
   "cell_type": "code",
   "execution_count": 180,
   "id": "a2f907c6",
   "metadata": {},
   "outputs": [
    {
     "data": {
      "image/png": "[encoded data removed]",
      "text/plain": [
       "<Figure size 600x400 with 1 Axes>"
      ]
     },
     "metadata": {
      "needs_background": "light"
     },
     "output_type": "display_data"
    }
   ],
   "source": [
    "# DDM\n",
    "\n",
    "x = ddm_risk['x0_abs']\n",
    "y = ddm_social['x0_abs']\n",
    "\n",
    "fig, ax = plt.subplots(dpi=dpi)\n",
    "\n",
    "plt.plot(x, y, 'o')\n",
    "\n",
    "m, b = np.polyfit(x, y, 1)\n",
    "\n",
    "plt.plot(x, m*x+b)\n",
    "\n",
    "plt.xlabel('intuition strength risk (DDM)', size = label_size)\n",
    "plt.ylabel('intuition strength social (DDM)', size = label_size)\n",
    "\n",
    "plt.tight_layout()\n",
    "\n"
   ]
  },
  {
   "cell_type": "code",
   "execution_count": 181,
   "id": "983a8ac7",
   "metadata": {},
   "outputs": [
    {
     "data": {
      "image/png": "[encoded data removed]",
      "text/plain": [
       "<Figure size 600x400 with 1 Axes>"
      ]
     },
     "metadata": {
      "needs_background": "light"
     },
     "output_type": "display_data"
    }
   ],
   "source": [
    "# aDDM\n",
    "\n",
    "x = addm_risk['x0_abs']\n",
    "y = addm_social['x0_abs']\n",
    "\n",
    "fig, ax = plt.subplots(dpi=dpi)\n",
    "\n",
    "plt.plot(x, y, 'o')\n",
    "\n",
    "m, b = np.polyfit(x, y, 1)\n",
    "\n",
    "plt.plot(x, m*x+b)\n",
    "\n",
    "plt.xlabel('intuition strength risk (aDDM)', size = label_size)\n",
    "plt.ylabel('intuition strength social (aDDM)', size = label_size)\n",
    "\n",
    "plt.tight_layout()\n",
    "\n"
   ]
  },
  {
   "cell_type": "code",
   "execution_count": null,
   "id": "8789c214",
   "metadata": {},
   "outputs": [],
   "source": []
  },
  {
   "cell_type": "markdown",
   "id": "d3c81ca1",
   "metadata": {},
   "source": [
    "## Paired samples analysis on x0_abs (intuition strength)"
   ]
  },
  {
   "cell_type": "code",
   "execution_count": 182,
   "id": "9093ab6f",
   "metadata": {},
   "outputs": [
    {
     "name": "stdout",
     "output_type": "stream",
     "text": [
      "Ttest_relResult(statistic=-0.9432423450232222, pvalue=0.35202284361953406)\n",
      "WilcoxonResult(statistic=243.0, pvalue=0.15737607169087242)\n"
     ]
    }
   ],
   "source": [
    "# DDM\n",
    "print(ttest_rel(ddm_risk['x0_abs'], ddm_social['x0_abs']))\n",
    "print(wilcoxon(ddm_risk['x0_abs'], ddm_social['x0_abs']))"
   ]
  },
  {
   "cell_type": "code",
   "execution_count": 183,
   "id": "97b48b8b",
   "metadata": {
    "scrolled": true
   },
   "outputs": [
    {
     "name": "stdout",
     "output_type": "stream",
     "text": [
      "Ttest_relResult(statistic=-2.0440236040923407, pvalue=0.04853283844646184)\n",
      "WilcoxonResult(statistic=210.0, pvalue=0.05331006569764642)\n"
     ]
    }
   ],
   "source": [
    "# aDDM\n",
    "print(ttest_rel(addm_risk['x0_abs'], addm_social['x0_abs']))\n",
    "print(wilcoxon(addm_risk['x0_abs'], addm_social['x0_abs']))"
   ]
  },
  {
   "cell_type": "markdown",
   "id": "d205660a",
   "metadata": {},
   "source": [
    "### plotting"
   ]
  },
  {
   "cell_type": "code",
   "execution_count": 184,
   "id": "68c5e3b2",
   "metadata": {},
   "outputs": [
    {
     "data": {
      "image/png": "[encoded data removed]",
      "text/plain": [
       "<Figure size 600x400 with 1 Axes>"
      ]
     },
     "metadata": {
      "needs_background": "light"
     },
     "output_type": "display_data"
    }
   ],
   "source": [
    "# DDM\n",
    "\n",
    "# ploTting\n",
    "columns = [ddm_risk['x0_abs'], ddm_social['x0_abs']]\n",
    "\n",
    "fig, ax = plt.subplots(dpi=dpi)\n",
    "ax.boxplot(columns, widths=(0.35, 0.35))\n",
    "plt.xticks([1, 2], ['risk', 'social'], size = label_size)\n",
    "plt.yticks(size = tick_size)\n",
    "plt.ylabel('Abs. Starting Point', size = label_size)\n",
    "\n",
    "plt.tight_layout()\n"
   ]
  },
  {
   "cell_type": "code",
   "execution_count": 185,
   "id": "61d752f3",
   "metadata": {},
   "outputs": [
    {
     "data": {
      "image/png": "[encoded data removed]",
      "text/plain": [
       "<Figure size 600x400 with 1 Axes>"
      ]
     },
     "metadata": {
      "needs_background": "light"
     },
     "output_type": "display_data"
    }
   ],
   "source": [
    "# aDDM\n",
    "\n",
    "# ploTting\n",
    "columns = [addm_risk['x0_abs'], addm_social['x0_abs']]\n",
    "\n",
    "fig, ax = plt.subplots(dpi=dpi)\n",
    "ax.boxplot(columns, widths=(0.35, 0.35))\n",
    "plt.xticks([1, 2], ['risk', 'social'], size = label_size)\n",
    "plt.yticks(size = tick_size)\n",
    "plt.ylabel('Abs. Starting Point', size = label_size)\n",
    "\n",
    "plt.tight_layout()\n",
    "\n"
   ]
  },
  {
   "cell_type": "code",
   "execution_count": null,
   "id": "85c71826",
   "metadata": {},
   "outputs": [],
   "source": []
  },
  {
   "cell_type": "code",
   "execution_count": null,
   "id": "e074b7ef",
   "metadata": {},
   "outputs": [],
   "source": []
  },
  {
   "cell_type": "markdown",
   "id": "c9654e90",
   "metadata": {},
   "source": [
    "# Likelihood ratio test (LTR) and fitter results for analysis"
   ]
  },
  {
   "cell_type": "markdown",
   "id": "ab07d469",
   "metadata": {},
   "source": [
    "## LTR for risky decisions"
   ]
  },
  {
   "cell_type": "code",
   "execution_count": 186,
   "id": "15c5a13b",
   "metadata": {},
   "outputs": [],
   "source": [
    "# risky decisions\n",
    "LRT_risk = -2 * (addm_risk['loss_func_value'] - ddm_risk['loss_func_value'])\n",
    "LRT_pval_risk = LRT_risk.apply(lambda x : chi2.sf(x, 1)) # 1 degree of freedom \n",
    "\n",
    "frame = [ddm_risk['SubjectNumber'], LRT_pval_risk]\n",
    "\n",
    "compare_risk = pd.concat(frame, axis = 1)\n",
    "\n",
    "compare_risk.rename(columns={\"loss_func_value\": \"LRT_pval\"}, inplace = True)\n",
    "\n",
    "compare_risk['Not_aDDM'] = np.nan\n",
    "\n",
    "compare_risk['Not_aDDM'] = compare_risk['LRT_pval'].apply(lambda x: 1 if x > 0.05 else 0)"
   ]
  },
  {
   "cell_type": "code",
   "execution_count": 187,
   "id": "8b3ebb33",
   "metadata": {
    "scrolled": true
   },
   "outputs": [
    {
     "data": {
      "text/plain": [
       "4"
      ]
     },
     "execution_count": 187,
     "metadata": {},
     "output_type": "execute_result"
    }
   ],
   "source": [
    "compare_risk['Not_aDDM'].sum()"
   ]
  },
  {
   "cell_type": "markdown",
   "id": "07cc9035",
   "metadata": {},
   "source": [
    "## LTR for social decisions"
   ]
  },
  {
   "cell_type": "code",
   "execution_count": 188,
   "id": "8dd8f4d3",
   "metadata": {},
   "outputs": [],
   "source": [
    "# social decisions\n",
    "LRT_social = -2 * (addm_social['loss_func_value'] - ddm_social['loss_func_value'])\n",
    "LRT_pval_social = LRT_social.apply(lambda x : chi2.sf(x, 1)) # 1 degree of freedom \n",
    "\n",
    "frame = [ddm_social['SubjectNumber'], LRT_pval_social]\n",
    "\n",
    "compare_social = pd.concat(frame, axis = 1)\n",
    "\n",
    "compare_social.rename(columns={\"loss_func_value\": \"LRT_pval\"}, inplace = True)\n",
    "\n",
    "compare_social['Not_aDDM'] = np.nan\n",
    "\n",
    "compare_social['Not_aDDM'] = compare_social['LRT_pval'].apply(lambda x: 1 if x > 0.05 else 0)"
   ]
  },
  {
   "cell_type": "code",
   "execution_count": 189,
   "id": "55cfddc6",
   "metadata": {
    "scrolled": true
   },
   "outputs": [
    {
     "data": {
      "text/plain": [
       "8"
      ]
     },
     "execution_count": 189,
     "metadata": {},
     "output_type": "execute_result"
    }
   ],
   "source": [
    "compare_social['Not_aDDM'].sum()"
   ]
  },
  {
   "cell_type": "markdown",
   "id": "aacfd8b1",
   "metadata": {},
   "source": [
    "## DDM datasets based on the LRT results"
   ]
  },
  {
   "cell_type": "markdown",
   "id": "f4bfbd21",
   "metadata": {},
   "source": [
    "### risk"
   ]
  },
  {
   "cell_type": "code",
   "execution_count": 190,
   "id": "12e8c650",
   "metadata": {},
   "outputs": [],
   "source": [
    "# risk\n",
    "\n",
    "ltr_ddm_risk = pd.DataFrame(columns = ['SubjectNumber', 'x0_abs'])\n",
    "\n",
    "for i in range(compare_risk.shape[0]):\n",
    "    SubjectNumber = compare_risk['SubjectNumber'][i]\n",
    "    \n",
    "    if compare_risk['Not_aDDM'][i] == 1:\n",
    "        result_list = [[SubjectNumber, float(ddm_risk['x0_abs'].iloc[np.where(ddm_risk['SubjectNumber'] == SubjectNumber)])]]\n",
    "    else:\n",
    "        result_list = [[SubjectNumber, float(addm_risk['x0_abs'].iloc[np.where(addm_risk['SubjectNumber'] == SubjectNumber)])]]\n",
    "    \n",
    "    result_df = pd.DataFrame(result_list, columns = ['SubjectNumber', 'x0_abs'])\n",
    "    \n",
    "    ltr_ddm_risk = ltr_ddm_risk.append(result_df, ignore_index=True)\n",
    "    \n",
    "    \n",
    "    "
   ]
  },
  {
   "cell_type": "code",
   "execution_count": 191,
   "id": "0a461d89",
   "metadata": {},
   "outputs": [
    {
     "name": "stdout",
     "output_type": "stream",
     "text": [
      "KstestResult(statistic=0.5008532737639951, pvalue=7.0590680388486515e-09)\n",
      "0.16891498009895103 0.12801482263591432\n"
     ]
    }
   ],
   "source": [
    "print(kstest(ltr_ddm_risk['x0_abs'], 'norm'))\n",
    "print(ltr_ddm_risk['x0_abs'].mean(), ltr_ddm_risk['x0_abs'].std())\n"
   ]
  },
  {
   "cell_type": "markdown",
   "id": "d22c6227",
   "metadata": {},
   "source": [
    "### social"
   ]
  },
  {
   "cell_type": "code",
   "execution_count": 192,
   "id": "4b732c07",
   "metadata": {
    "scrolled": true
   },
   "outputs": [],
   "source": [
    "# social\n",
    "\n",
    "ltr_ddm_social = pd.DataFrame(columns = ['SubjectNumber', 'x0_abs'])\n",
    "\n",
    "for i in range(compare_social.shape[0]):\n",
    "    SubjectNumber = compare_social['SubjectNumber'][i]\n",
    "    \n",
    "    if compare_social['Not_aDDM'][i] == 1:\n",
    "        result_list = [[SubjectNumber, float(ddm_social['x0_abs'].iloc[np.where(ddm_social['SubjectNumber'] == SubjectNumber)])]]\n",
    "    else:\n",
    "        result_list = [[SubjectNumber, float(addm_social['x0_abs'].iloc[np.where(addm_social['SubjectNumber'] == SubjectNumber)])]]\n",
    "    \n",
    "    result_df = pd.DataFrame(result_list, columns = ['SubjectNumber', 'x0_abs'])\n",
    "    \n",
    "    ltr_ddm_social = ltr_ddm_social.append(result_df, ignore_index=True)\n",
    "    \n",
    "    "
   ]
  },
  {
   "cell_type": "code",
   "execution_count": 193,
   "id": "ad850c92",
   "metadata": {},
   "outputs": [
    {
     "name": "stdout",
     "output_type": "stream",
     "text": [
      "KstestResult(statistic=0.5063781145205969, pvalue=4.460314767859578e-09)\n",
      "0.2379276690690731 0.1309302206101211\n"
     ]
    }
   ],
   "source": [
    "print(kstest(ltr_ddm_social['x0_abs'], 'norm'))\n",
    "print(ltr_ddm_social['x0_abs'].mean(), ltr_ddm_social['x0_abs'].std())"
   ]
  },
  {
   "cell_type": "markdown",
   "id": "644479cd",
   "metadata": {},
   "source": [
    "## Correlational analaysis"
   ]
  },
  {
   "cell_type": "code",
   "execution_count": 194,
   "id": "aaa45124",
   "metadata": {},
   "outputs": [
    {
     "name": "stdout",
     "output_type": "stream",
     "text": [
      "PearsonrResult (-0.2753108890143788, 0.10413090069552186)\n",
      "SpearmanrResult(correlation=-0.22651222651222655, pvalue=0.18402868799820776)\n"
     ]
    }
   ],
   "source": [
    "# ltr_DDM\n",
    "print('PearsonrResult', pearsonr(ltr_ddm_risk['x0_abs'], ltr_ddm_social['x0_abs']))\n",
    "print(spearmanr(ltr_ddm_risk['x0_abs'], ltr_ddm_social['x0_abs']))"
   ]
  },
  {
   "cell_type": "markdown",
   "id": "1dc76058",
   "metadata": {},
   "source": [
    "### plotting"
   ]
  },
  {
   "cell_type": "code",
   "execution_count": 195,
   "id": "842b828a",
   "metadata": {},
   "outputs": [
    {
     "data": {
      "image/png": "[encoded data removed]",
      "text/plain": [
       "<Figure size 600x400 with 1 Axes>"
      ]
     },
     "metadata": {
      "needs_background": "light"
     },
     "output_type": "display_data"
    }
   ],
   "source": [
    "# ltr_DDM\n",
    "\n",
    "x = ltr_ddm_risk['x0_abs']\n",
    "y = ltr_ddm_social['x0_abs']\n",
    "\n",
    "fig, ax = plt.subplots(dpi=dpi)\n",
    "\n",
    "plt.plot(x, y, 'o')\n",
    "\n",
    "m, b = np.polyfit(x, y, 1)\n",
    "\n",
    "plt.plot(x, m*x+b)\n",
    "\n",
    "plt.xlabel('intuition strength risk (aDDM)', size = label_size)\n",
    "plt.ylabel('intuition strength social (aDDM)', size = label_size)\n",
    "\n",
    "plt.tight_layout()\n",
    "\n"
   ]
  },
  {
   "cell_type": "markdown",
   "id": "9789aea5",
   "metadata": {},
   "source": [
    "## Paired samples analysis"
   ]
  },
  {
   "cell_type": "code",
   "execution_count": 196,
   "id": "d0705229",
   "metadata": {},
   "outputs": [
    {
     "name": "stdout",
     "output_type": "stream",
     "text": [
      "Ttest_relResult(statistic=-2.0024603284156686, pvalue=0.05303037918830797)\n",
      "WilcoxonResult(statistic=210.0, pvalue=0.05331006569764642)\n"
     ]
    }
   ],
   "source": [
    "# DDM\n",
    "print(ttest_rel(ltr_ddm_risk['x0_abs'], ltr_ddm_social['x0_abs']))\n",
    "print(wilcoxon(ltr_ddm_risk['x0_abs'], ltr_ddm_social['x0_abs']))"
   ]
  },
  {
   "cell_type": "markdown",
   "id": "9ce5b748",
   "metadata": {},
   "source": [
    "### plotting"
   ]
  },
  {
   "cell_type": "code",
   "execution_count": 197,
   "id": "cddbe61e",
   "metadata": {},
   "outputs": [
    {
     "data": {
      "image/png": "[encoded data removed]",
      "text/plain": [
       "<Figure size 600x400 with 1 Axes>"
      ]
     },
     "metadata": {
      "needs_background": "light"
     },
     "output_type": "display_data"
    }
   ],
   "source": [
    "# ltr_DDM\n",
    "\n",
    "columns = [ltr_ddm_risk['x0_abs'], ltr_ddm_social['x0_abs']]\n",
    "\n",
    "fig, ax = plt.subplots(dpi=dpi)\n",
    "ax.boxplot(columns, widths=(0.35, 0.35))\n",
    "plt.xticks([1, 2], ['risk', 'social'], size = label_size)\n",
    "plt.yticks(size = tick_size)\n",
    "plt.ylabel('Abs. Starting Point', size = label_size)\n",
    "\n",
    "plt.tight_layout()\n",
    "\n"
   ]
  },
  {
   "cell_type": "code",
   "execution_count": null,
   "id": "8a7acd1e",
   "metadata": {},
   "outputs": [],
   "source": []
  },
  {
   "cell_type": "markdown",
   "id": "5d45011d",
   "metadata": {},
   "source": [
    "# Correlation of the cross-domain prefrences by intuitive thinking"
   ]
  },
  {
   "cell_type": "markdown",
   "id": "dadf0c68",
   "metadata": {},
   "source": [
    "## Correlational analysis on x0 \n"
   ]
  },
  {
   "cell_type": "code",
   "execution_count": 198,
   "id": "df078b1c",
   "metadata": {},
   "outputs": [
    {
     "name": "stdout",
     "output_type": "stream",
     "text": [
      "PearsonrResult (-0.06856341513096798, 0.691123902324391)\n",
      "SpearmanrResult(correlation=-0.06280566280566281, pvalue=0.7159368325586517)\n"
     ]
    }
   ],
   "source": [
    "# DDM\n",
    "print('PearsonrResult', pearsonr(ddm_risk['x0'], ddm_social['x0']))\n",
    "print(spearmanr(ddm_risk['x0'], ddm_social['x0']))"
   ]
  },
  {
   "cell_type": "code",
   "execution_count": 199,
   "id": "207a915e",
   "metadata": {},
   "outputs": [
    {
     "name": "stdout",
     "output_type": "stream",
     "text": [
      "PearsonrResult (0.07901787587943007, 0.6468858945971128)\n",
      "SpearmanrResult(correlation=-0.0030888030888030892, pvalue=0.9857355588070573)\n"
     ]
    }
   ],
   "source": [
    "# aDDM\n",
    "print('PearsonrResult', pearsonr(addm_risk['x0'], addm_social['x0']))\n",
    "print(spearmanr(addm_risk['x0'], addm_social['x0']))"
   ]
  },
  {
   "cell_type": "markdown",
   "id": "e0dab608",
   "metadata": {},
   "source": [
    "### plotting"
   ]
  },
  {
   "cell_type": "code",
   "execution_count": 200,
   "id": "d0535bcc",
   "metadata": {},
   "outputs": [
    {
     "data": {
      "image/png": "[encoded data removed]",
      "text/plain": [
       "<Figure size 600x400 with 1 Axes>"
      ]
     },
     "metadata": {
      "needs_background": "light"
     },
     "output_type": "display_data"
    }
   ],
   "source": [
    "# DDM\n",
    "\n",
    "x = ddm_risk['x0']\n",
    "y = ddm_social['x0']\n",
    "\n",
    "fig, ax = plt.subplots(dpi=dpi)\n",
    "\n",
    "plt.plot(x, y, 'o')\n",
    "\n",
    "m, b = np.polyfit(x, y, 1)\n",
    "\n",
    "plt.plot(x, m*x+b)\n",
    "\n",
    "plt.xlabel('intuition pref. risk (DDM)', size = label_size)\n",
    "plt.ylabel('intuition pref. social (DDM)', size = label_size)\n",
    "\n",
    "plt.tight_layout()\n"
   ]
  },
  {
   "cell_type": "code",
   "execution_count": 201,
   "id": "11f48d0e",
   "metadata": {},
   "outputs": [
    {
     "data": {
      "image/png": "[encoded data removed]",
      "text/plain": [
       "<Figure size 600x400 with 1 Axes>"
      ]
     },
     "metadata": {
      "needs_background": "light"
     },
     "output_type": "display_data"
    }
   ],
   "source": [
    "# aDDM\n",
    "\n",
    "x = addm_risk['x0']\n",
    "y = addm_social['x0']\n",
    "\n",
    "fig, ax = plt.subplots(dpi=dpi)\n",
    "\n",
    "plt.plot(x, y, 'o')\n",
    "\n",
    "m, b = np.polyfit(x, y, 1)\n",
    "\n",
    "plt.plot(x, m*x+b)\n",
    "\n",
    "plt.xlabel('intuition pref. risk (aDDM)', size = label_size)\n",
    "plt.ylabel('intuition pref. social (aDDM)', size = label_size)\n",
    "\n",
    "plt.tight_layout()\n"
   ]
  },
  {
   "cell_type": "code",
   "execution_count": null,
   "id": "40262ba2",
   "metadata": {},
   "outputs": [],
   "source": []
  },
  {
   "cell_type": "markdown",
   "id": "7eea1aca",
   "metadata": {},
   "source": [
    "# Attentional effect and cross-domain consistency\n"
   ]
  },
  {
   "cell_type": "markdown",
   "id": "6427b09e",
   "metadata": {},
   "source": [
    "## one sample t test"
   ]
  },
  {
   "cell_type": "code",
   "execution_count": 206,
   "id": "a91f1cce",
   "metadata": {},
   "outputs": [
    {
     "name": "stdout",
     "output_type": "stream",
     "text": [
      "Ttest_1sampResult(statistic=-5.6390420532395416, pvalue=2.3099626075563294e-06)\n",
      "Ttest_1sampResult(statistic=-6.141596058231921, pvalue=5.027670509040817e-07)\n"
     ]
    }
   ],
   "source": [
    "# two-tailed\n",
    "print(ttest_1samp(addm_risk['theta'], popmean=1))\n",
    "print(ttest_1samp(addm_social['theta'], popmean=1))"
   ]
  },
  {
   "cell_type": "code",
   "execution_count": 208,
   "id": "9ebc9bb9",
   "metadata": {},
   "outputs": [
    {
     "name": "stdout",
     "output_type": "stream",
     "text": [
      "Ttest_1sampResult(statistic=-5.6390420532395416, pvalue=1.1549813037781647e-06)\n",
      "Ttest_1sampResult(statistic=-6.141596058231921, pvalue=2.5138352545204083e-07)\n"
     ]
    }
   ],
   "source": [
    "# one-tailed\n",
    "print(ttest_1samp(addm_risk['theta'], popmean=1, alternative='less'))\n",
    "print(ttest_1samp(addm_social['theta'], popmean=1, alternative='less'))"
   ]
  },
  {
   "cell_type": "markdown",
   "id": "7d1a10d8",
   "metadata": {},
   "source": [
    "## correlational analysis for testing cross-domain consistency "
   ]
  },
  {
   "cell_type": "code",
   "execution_count": 204,
   "id": "0dbc33b1",
   "metadata": {},
   "outputs": [
    {
     "name": "stdout",
     "output_type": "stream",
     "text": [
      "PearsonrResult (-0.03848562639759916, 0.8236547239547116)\n",
      "SpearmanrResult(correlation=0.10913770913770915, pvalue=0.5263331722411144)\n"
     ]
    }
   ],
   "source": [
    "# aDDM\n",
    "print('PearsonrResult', pearsonr(addm_risk['theta'], addm_social['theta']))\n",
    "print(spearmanr(addm_risk['theta'], addm_social['theta']))"
   ]
  },
  {
   "cell_type": "markdown",
   "id": "21b343f5",
   "metadata": {},
   "source": [
    "### plotting"
   ]
  },
  {
   "cell_type": "code",
   "execution_count": 205,
   "id": "b4553b15",
   "metadata": {},
   "outputs": [
    {
     "data": {
      "image/png": "[encoded data removed]",
      "text/plain": [
       "<Figure size 600x400 with 1 Axes>"
      ]
     },
     "metadata": {
      "needs_background": "light"
     },
     "output_type": "display_data"
    }
   ],
   "source": [
    "x = addm_risk['theta']\n",
    "y = addm_social['theta']\n",
    "\n",
    "fig, ax = plt.subplots(dpi=dpi)\n",
    "\n",
    "plt.plot(x, y, 'o')\n",
    "\n",
    "m, b = np.polyfit(x, y, 1)\n",
    "\n",
    "plt.plot(x, m*x+b)\n",
    "\n",
    "plt.xlabel('intuition pref. risk (aDDM)', size = label_size)\n",
    "plt.ylabel('intuition pref. social (aDDM)', size = label_size)\n",
    "\n",
    "plt.tight_layout()\n",
    "\n"
   ]
  },
  {
   "cell_type": "code",
   "execution_count": null,
   "id": "d7bb713b",
   "metadata": {},
   "outputs": [],
   "source": []
  }
 ],
 "metadata": {
  "kernelspec": {
   "display_name": "Python [conda env:root] *",
   "language": "python",
   "name": "conda-root-py"
  },
  "language_info": {
   "codemirror_mode": {
    "name": "ipython",
    "version": 3
   },
   "file_extension": ".py",
   "mimetype": "text/x-python",
   "name": "python",
   "nbconvert_exporter": "python",
   "pygments_lexer": "ipython3",
   "version": "3.9.7"
  }
 },
 "nbformat": 4,
 "nbformat_minor": 5
}
